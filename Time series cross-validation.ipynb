{
 "cells": [
  {
   "cell_type": "code",
   "execution_count": 32,
   "metadata": {},
   "outputs": [
    {
     "name": "stdout",
     "output_type": "stream",
     "text": [
      "Populating the interactive namespace from numpy and matplotlib\n"
     ]
    }
   ],
   "source": [
    "%pylab inline\n",
    "import pandas as pd\n",
    "from scipy import stats\n",
    "import statsmodels.api as sm\n",
    "import matplotlib.pyplot as plt\n",
    "import warnings\n",
    "from itertools import product\n",
    "import numpy as np\n",
    "from sklearn.model_selection import TimeSeriesSplit\n",
    "from sklearn.metrics import mean_squared_error \n",
    "from statsmodels.tsa.holtwinters import ExponentialSmoothing"
   ]
  },
  {
   "cell_type": "code",
   "execution_count": 42,
   "metadata": {},
   "outputs": [],
   "source": [
    "wine = pd.read_csv('monthly-australian-wine-sales.csv',',', index_col=['month'], parse_dates=['month'], dayfirst=True)"
   ]
  },
  {
   "cell_type": "markdown",
   "metadata": {},
   "source": [
    "Как работает деление:"
   ]
  },
  {
   "cell_type": "code",
   "execution_count": 44,
   "metadata": {},
   "outputs": [
    {
     "name": "stdout",
     "output_type": "stream",
     "text": [
      "TRAIN position: [0] TEST position: [1]\n",
      "TRAIN value: [100] TEST value: [200]\n",
      "TRAIN position: [0 1] TEST position: [2]\n",
      "TRAIN value: [100 200] TEST value: [300]\n",
      "TRAIN position: [0 1 2] TEST position: [3]\n",
      "TRAIN value: [100 200 300] TEST value: [400]\n",
      "TRAIN position: [0 1 2 3] TEST position: [4]\n",
      "TRAIN value: [100 200 300 400] TEST value: [500]\n",
      "TRAIN position: [0 1 2 3 4] TEST position: [5]\n",
      "TRAIN value: [100 200 300 400 500] TEST value: [600]\n"
     ]
    }
   ],
   "source": [
    "X = np.array([100,200,300,400,500,600])\n",
    "\n",
    "tscv = TimeSeriesSplit()\n",
    "TimeSeriesSplit(max_train_size=None, n_splits=5) #n_splits - количество фолдов для трейна\n",
    "\n",
    "for train_index, test_index in tscv.split(X):\n",
    "    print(\"TRAIN position:\", train_index, \"TEST position:\", test_index)\n",
    "    X_train, X_test = X[train_index], X[test_index]\n",
    "    print(\"TRAIN value:\", X_train, \"TEST value:\", X_test)"
   ]
  },
  {
   "cell_type": "markdown",
   "metadata": {},
   "source": [
    "Расчет на реальных данных"
   ]
  },
  {
   "cell_type": "code",
   "execution_count": null,
   "metadata": {},
   "outputs": [],
   "source": [
    "#разбиваем на 3 фолда данные\n",
    "#строим модель отдельно на каждом наборе данных\n",
    "#оцениваем на каждой ошибку и выдаем среднее значение ошибка"
   ]
  },
  {
   "cell_type": "code",
   "execution_count": 62,
   "metadata": {},
   "outputs": [],
   "source": [
    "def timeseriesCVscore(series, seasonal_periods=12):\n",
    "    \n",
    "    errors = []\n",
    "    values = series.values\n",
    "    \n",
    "    # set the number of folds for cross-validation\n",
    "    tscv = TimeSeriesSplit(n_splits=3) \n",
    "    \n",
    "    # iterating over folds, train model on each, forecast and calculate error\n",
    "    for train, test in tscv.split(values):\n",
    "        model = ExponentialSmoothing(values, seasonal='mul', trend=None, seasonal_periods=seasonal_periods).fit(use_boxcox=True)\n",
    "        \n",
    "        predictions = model.predict(start=test[0], end=test[-1])\n",
    "        actual = values[test]\n",
    "        error = sqrt(mean_squared_error(predictions, actual))\n",
    "        errors.append(error)\n",
    "        \n",
    "    return np.mean(np.array(errors))"
   ]
  },
  {
   "cell_type": "code",
   "execution_count": 63,
   "metadata": {},
   "outputs": [
    {
     "data": {
      "text/plain": [
       "2394.754625026853"
      ]
     },
     "execution_count": 63,
     "metadata": {},
     "output_type": "execute_result"
    }
   ],
   "source": [
    "timeseriesCVscore(wine.sales)"
   ]
  }
 ],
 "metadata": {
  "kernelspec": {
   "display_name": "Python 3",
   "language": "python",
   "name": "python3"
  },
  "language_info": {
   "codemirror_mode": {
    "name": "ipython",
    "version": 3
   },
   "file_extension": ".py",
   "mimetype": "text/x-python",
   "name": "python",
   "nbconvert_exporter": "python",
   "pygments_lexer": "ipython3",
   "version": "3.7.3"
  }
 },
 "nbformat": 4,
 "nbformat_minor": 2
}
